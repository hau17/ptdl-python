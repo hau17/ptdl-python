{
  "nbformat": 4,
  "nbformat_minor": 0,
  "metadata": {
    "colab": {
      "provenance": [],
      "toc_visible": true,
      "gpuType": "T4",
      "authorship_tag": "ABX9TyNyLodgbu+0Rme2QUE67OlT",
      "include_colab_link": true
    },
    "kernelspec": {
      "name": "python3",
      "display_name": "Python 3"
    },
    "language_info": {
      "name": "python"
    }
  },
  "cells": [
    {
      "cell_type": "markdown",
      "metadata": {
        "id": "view-in-github",
        "colab_type": "text"
      },
      "source": [
        "<a href=\"https://colab.research.google.com/github/hau17/ptdl-python/blob/main/week2/slide/slide_turtorial_python_code.ipynb\" target=\"_parent\"><img src=\"https://colab.research.google.com/assets/colab-badge.svg\" alt=\"Open In Colab\"/></a>"
      ]
    },
    {
      "cell_type": "markdown",
      "source": [
        "# Kiến thức cơ bản Python"
      ],
      "metadata": {
        "id": "qUUUfdS_Fd_U"
      }
    },
    {
      "cell_type": "markdown",
      "source": [],
      "metadata": {
        "id": "TRgJUO8YG63x"
      }
    },
    {
      "cell_type": "code",
      "source": [
        "# in ra màn hình\n",
        "print('hello world')"
      ],
      "metadata": {
        "colab": {
          "base_uri": "https://localhost:8080/"
        },
        "id": "ryEGXv10Fp2U",
        "outputId": "5995adda-026d-45e7-9242-ae90d09db7e4"
      },
      "execution_count": null,
      "outputs": [
        {
          "output_type": "stream",
          "name": "stdout",
          "text": [
            "hello world\n"
          ]
        }
      ]
    },
    {
      "cell_type": "code",
      "source": [
        "#Indentation the spaces at the beginning of a code line 4 spaces\n",
        "score = 80\n",
        "if score >=60 :\n",
        "  print(\"Pass\")"
      ],
      "metadata": {
        "colab": {
          "base_uri": "https://localhost:8080/"
        },
        "id": "D6BbPJK5F6Wt",
        "outputId": "c750ab28-1c13-4d57-b833-615d6c6cfb6b"
      },
      "execution_count": null,
      "outputs": [
        {
          "output_type": "stream",
          "name": "stdout",
          "text": [
            "Pass\n"
          ]
        }
      ]
    },
    {
      "cell_type": "markdown",
      "source": [
        "## Biến trong python\n"
      ],
      "metadata": {
        "id": "LdntfFQcHKmF"
      }
    },
    {
      "cell_type": "code",
      "source": [
        "# Python Variables\n",
        "x = 2\n",
        "print(x)\n",
        "price = 2.5\n",
        "print(price)\n",
        "word = 'Hello'\n",
        "print(word)\n",
        "word = 'Hello'\n",
        "print(word)\n",
        "word = \"Hello\"\n",
        "print(word)\n",
        "word = '''Hello'''\n",
        "print(word)\n"
      ],
      "metadata": {
        "colab": {
          "base_uri": "https://localhost:8080/"
        },
        "id": "HCep9O1hGBNW",
        "outputId": "91828617-b2f5-47da-f3d5-810e79eeafaa"
      },
      "execution_count": null,
      "outputs": [
        {
          "output_type": "stream",
          "name": "stdout",
          "text": [
            "2\n",
            "2.5\n",
            "Hello\n",
            "Hello\n",
            "Hello\n",
            "Hello\n"
          ]
        }
      ]
    },
    {
      "cell_type": "code",
      "source": [
        "#Python Variables\n",
        "x = 2\n",
        "y = x + 1\n",
        "print(x)\n",
        "print(y)"
      ],
      "metadata": {
        "colab": {
          "base_uri": "https://localhost:8080/"
        },
        "id": "f12iPgHXGpol",
        "outputId": "38472213-1060-4b7a-f6f5-58dc6eed023b"
      },
      "execution_count": null,
      "outputs": [
        {
          "output_type": "stream",
          "name": "stdout",
          "text": [
            "2\n",
            "3\n"
          ]
        }
      ]
    },
    {
      "cell_type": "markdown",
      "source": [],
      "metadata": {
        "id": "vmiIda1-H27V"
      }
    },
    {
      "cell_type": "markdown",
      "source": [
        "## Phiên bản python"
      ],
      "metadata": {
        "id": "9_kORl2HH3UT"
      }
    },
    {
      "cell_type": "code",
      "source": [
        "from platform import python_version\n",
        "print(python_version())"
      ],
      "metadata": {
        "colab": {
          "base_uri": "https://localhost:8080/"
        },
        "id": "gC9gywGhH6rP",
        "outputId": "f3a1098c-6310-4d4f-891c-a95d766e59b3"
      },
      "execution_count": null,
      "outputs": [
        {
          "output_type": "stream",
          "name": "stdout",
          "text": [
            "3.12.11\n"
          ]
        }
      ]
    },
    {
      "cell_type": "markdown",
      "source": [
        "## Kiểu dữ liệu"
      ],
      "metadata": {
        "id": "0QTwZCNYHhWG"
      }
    },
    {
      "cell_type": "markdown",
      "source": [],
      "metadata": {
        "id": "cydNLnivHV1C"
      }
    },
    {
      "cell_type": "code",
      "source": [
        "x = \"Hello World\" #str\n",
        "print(x, type(x))\n",
        "x = 2 #int\n",
        "print(x, type(x))\n",
        "x = 2.5 #float\n",
        "print(x, type(x))\n",
        "x = 7j #complex\n",
        "print(x, type(x))"
      ],
      "metadata": {
        "colab": {
          "base_uri": "https://localhost:8080/"
        },
        "id": "Gy98K27jGygm",
        "outputId": "1e5fab94-c356-4010-a208-8c2208075d24"
      },
      "execution_count": null,
      "outputs": [
        {
          "output_type": "stream",
          "name": "stdout",
          "text": [
            "Hello World <class 'str'>\n",
            "2 <class 'int'>\n",
            "2.5 <class 'float'>\n",
            "7j <class 'complex'>\n"
          ]
        }
      ]
    },
    {
      "cell_type": "code",
      "source": [
        "x = [\"apple\", \"banana\", \"cherry\",\"cherry\"] #list\n",
        "print(x, type(x))\n",
        "x = (\"apple\", \"banana\", \"cherry\",\"cherry\") #tuple\n",
        "x.append\n",
        "print(x, type(x))\n",
        "x = range(6) #range\n",
        "x = {\"name\" : \"Tom\", \"age\" : 20,\"age\" : 20} #dict\n",
        "x = {\"apple\", \"banana\", \"cherry\", \"cherry\"} #set\n",
        "print(x)\n",
        "x = { \"banana\", \"cherry\", \"serri\",\"apple\"} #set\n",
        "print(x)"
      ],
      "metadata": {
        "colab": {
          "base_uri": "https://localhost:8080/"
        },
        "id": "GlXJYcraI1e6",
        "outputId": "2de460a2-355c-4900-d861-de9ee53f9903"
      },
      "execution_count": null,
      "outputs": [
        {
          "output_type": "stream",
          "name": "stdout",
          "text": [
            "['apple', 'banana', 'cherry', 'cherry'] <class 'list'>\n",
            "('apple', 'banana', 'cherry', 'cherry') <class 'tuple'>\n",
            "{'cherry', 'banana', 'apple'}\n",
            "{'cherry', 'apple', 'banana', 'serri'}\n"
          ]
        }
      ]
    },
    {
      "cell_type": "code",
      "source": [
        "x = True #bool\n",
        "print(x, type(x))\n",
        "x = b\"Hello\" #bytes\n",
        "print(x, type(x))\n",
        "x = bytearray(5) #bytearray\n",
        "print(x, type(x))\n",
        "x = memoryview(bytes(5)) #memoryview\n",
        "print(x, type(x))\n",
        "x = None #NoneType\n",
        "print(x, type(x))"
      ],
      "metadata": {
        "colab": {
          "base_uri": "https://localhost:8080/"
        },
        "id": "DaEMxt5oKjH4",
        "outputId": "b9260d36-1d4c-47f3-f22d-3836533d23e9"
      },
      "execution_count": null,
      "outputs": [
        {
          "output_type": "stream",
          "name": "stdout",
          "text": [
            "True <class 'bool'>\n",
            "b'Hello' <class 'bytes'>\n",
            "bytearray(b'\\x00\\x00\\x00\\x00\\x00') <class 'bytearray'>\n",
            "<memory at 0x7d5e8bdcd9c0> <class 'memoryview'>\n",
            "None <class 'NoneType'>\n"
          ]
        }
      ]
    },
    {
      "cell_type": "markdown",
      "source": [
        "### Lists[]"
      ],
      "metadata": {
        "id": "zEdB_TPvbQU9"
      }
    },
    {
      "cell_type": "code",
      "source": [
        "x = [60, 70, 80, 90]\n",
        "print(len(x))\n",
        "print(x[0])\n",
        "print(x[1])\n",
        "print(x[-1])"
      ],
      "metadata": {
        "colab": {
          "base_uri": "https://localhost:8080/"
        },
        "id": "f9qCA4q-bZ4l",
        "outputId": "499cf6bf-d009-4235-f9d3-0b0578f2790a"
      },
      "execution_count": null,
      "outputs": [
        {
          "output_type": "stream",
          "name": "stdout",
          "text": [
            "4\n",
            "60\n",
            "70\n",
            "90\n"
          ]
        }
      ]
    },
    {
      "cell_type": "markdown",
      "source": [
        "### Tuples()"
      ],
      "metadata": {
        "id": "jAVHgFsqbiM5"
      }
    },
    {
      "cell_type": "code",
      "source": [
        "# A tuple in Python is a collection that cannot be modified.\n",
        "# A tuple is defined using parenthesis.\n",
        "x = (10, 20, 30, 40, 50)\n",
        "print(x[0])\n",
        "print(x[1])\n",
        "print(x[2])\n",
        "print(x[-1])"
      ],
      "metadata": {
        "id": "8tlaF_Stbkry"
      },
      "execution_count": null,
      "outputs": []
    },
    {
      "cell_type": "markdown",
      "source": [
        "### Sets"
      ],
      "metadata": {
        "id": "irEqE7fdb4y3"
      }
    },
    {
      "cell_type": "code",
      "source": [
        "animals = {'cat', 'dog'}\n",
        "print('cat' in animals)\n",
        "print('fish' in animals)\n",
        "animals.add('fish')\n",
        "print('fish' in animals)\n",
        "print(len(animals))\n",
        "animals.add('cat')\n",
        "print(len(animals))\n",
        "animals.remove('cat')\n",
        "print(len(animals))"
      ],
      "metadata": {
        "colab": {
          "base_uri": "https://localhost:8080/"
        },
        "id": "VighzkGqb6SU",
        "outputId": "893495d1-3f6a-4d77-d265-012fecbc3b86"
      },
      "execution_count": null,
      "outputs": [
        {
          "output_type": "stream",
          "name": "stdout",
          "text": [
            "True\n",
            "False\n",
            "True\n",
            "3\n",
            "3\n",
            "2\n"
          ]
        }
      ]
    },
    {
      "cell_type": "markdown",
      "source": [
        "### dictionary {'key':'value')"
      ],
      "metadata": {
        "id": "qLfe2-LGcMW7"
      }
    },
    {
      "cell_type": "code",
      "source": [
        "k = { 'EN':'English'\n",
        "\n",
        ",\n",
        "'FR':'French' }\n",
        "\n",
        "print(k['EN'])"
      ],
      "metadata": {
        "colab": {
          "base_uri": "https://localhost:8080/"
        },
        "id": "TpFxn7Y4cR54",
        "outputId": "f49f13f2-fb2b-48dd-c450-2f157bc5ffff"
      },
      "execution_count": null,
      "outputs": [
        {
          "output_type": "stream",
          "name": "stdout",
          "text": [
            "English\n"
          ]
        }
      ]
    },
    {
      "cell_type": "markdown",
      "source": [
        "## Ép kiểu dữ liệu"
      ],
      "metadata": {
        "id": "ZfxPL4B_K29w"
      }
    },
    {
      "cell_type": "code",
      "source": [
        "x = str(2) # x will be '3'\n",
        "y = int(3.8) # y will be 3\n",
        "z = float(3) # z will be 3.0\n",
        "print(x, type(x))\n",
        "print(y, type(y))\n",
        "print(z, type(z))"
      ],
      "metadata": {
        "colab": {
          "base_uri": "https://localhost:8080/"
        },
        "id": "eDNN2WOzK-TR",
        "outputId": "47440110-9c73-4ccb-d058-15e187d81053"
      },
      "execution_count": null,
      "outputs": [
        {
          "output_type": "stream",
          "name": "stdout",
          "text": [
            "2 <class 'str'>\n",
            "3 <class 'int'>\n",
            "3.0 <class 'float'>\n"
          ]
        }
      ]
    },
    {
      "cell_type": "markdown",
      "source": [
        "## Phép tính trong python"
      ],
      "metadata": {
        "id": "reHahG4aLw_B"
      }
    },
    {
      "cell_type": "code",
      "source": [
        "print('7 + 2 =', 7 + 2)\n",
        "print('7 - 2  =', 7 - 2)\n",
        "print('7 * 2 =', 7 * 2)\n",
        "print('7 / 2 =', 7 / 2)\n",
        "print('7 // 2 =', 7 // 2)\n",
        "print('7 % 2 =', 7 % 2)\n",
        "print('7 ** 2 =', 7 ** 2)"
      ],
      "metadata": {
        "colab": {
          "base_uri": "https://localhost:8080/"
        },
        "id": "4YVC3cEgL2Fy",
        "outputId": "846d89fe-290e-418b-f09b-372a8a5cd7e2"
      },
      "execution_count": null,
      "outputs": [
        {
          "output_type": "stream",
          "name": "stdout",
          "text": [
            "7 + 2 = 9\n",
            "7 - 2 = 5\n",
            "7 * 2 = 14\n",
            "7 / 2 = 3.5\n",
            "7 // 2 = 3\n",
            "7 % 2 = 1\n",
            "7 ** 2 = 49\n"
          ]
        }
      ]
    },
    {
      "cell_type": "markdown",
      "source": [
        "## So sánh trong python (True/False)"
      ],
      "metadata": {
        "id": "1UuRQ46AMiNj"
      }
    },
    {
      "cell_type": "code",
      "source": [
        "# Python Booleans: True or False\n",
        "print('3 > 2:', 3 > 2)\n",
        "print('3 < 2:', 3 < 2)\n",
        "print('3 == 2', 3 == 2)\n",
        "print('3 != 2', 3 != 2)\n",
        "print('3 <= 2', 3 <= 2)\n",
        "print('3 >= 2', 3 >= 2)"
      ],
      "metadata": {
        "colab": {
          "base_uri": "https://localhost:8080/"
        },
        "id": "Zd1MEq8_Mq0p",
        "outputId": "19e03a70-cd1c-413d-8d1b-09a4330f2518"
      },
      "execution_count": null,
      "outputs": [
        {
          "output_type": "stream",
          "name": "stdout",
          "text": [
            "3 > 2: True\n",
            "3 < 2: False\n",
            "3 == 2 False\n",
            "3 != 2 True\n",
            "3 <= 2 False\n",
            "3 >= 2 True\n"
          ]
        }
      ]
    },
    {
      "cell_type": "markdown",
      "source": [
        "## Các ví dụ về tính toán"
      ],
      "metadata": {
        "id": "l4WswvR0NYs8"
      }
    },
    {
      "cell_type": "markdown",
      "source": [
        "### Tinh BMI"
      ],
      "metadata": {
        "id": "c-t_6Rx1dMQx"
      }
    },
    {
      "cell_type": "code",
      "source": [
        "# BMI Calculator in Python\n",
        "height_cm = 167\n",
        "weight_kg = 58\n",
        "height_m = height_cm/100\n",
        "BMI = (weight_kg/(height_m**2))\n",
        "\n",
        "print(\"Your BMI is: \" + str(round(BMI,1)))"
      ],
      "metadata": {
        "colab": {
          "base_uri": "https://localhost:8080/"
        },
        "id": "vv2eCVh6Ne69",
        "outputId": "f35a4c18-a2fd-45ce-a986-a72bdab8561b"
      },
      "execution_count": null,
      "outputs": [
        {
          "output_type": "stream",
          "name": "stdout",
          "text": [
            "Your BMI is: 20.8\n"
          ]
        }
      ]
    },
    {
      "cell_type": "markdown",
      "source": [
        "### Tính lãi suất"
      ],
      "metadata": {
        "id": "lyFIvN1ydQ5Y"
      }
    },
    {
      "cell_type": "code",
      "source": [
        "# How much is your $100 worth after 7 years?\n",
        "fv = 100 * 1.1 ** 7\n",
        "print('fv = ', round(fv, 2))\n",
        "# output = 194.87"
      ],
      "metadata": {
        "colab": {
          "base_uri": "https://localhost:8080/"
        },
        "id": "QgrZyxTWaYa5",
        "outputId": "2493bfc5-6d19-4928-e71f-9ce645e5e3a1"
      },
      "execution_count": null,
      "outputs": [
        {
          "output_type": "stream",
          "name": "stdout",
          "text": [
            "fv =  194.87\n"
          ]
        }
      ]
    },
    {
      "cell_type": "markdown",
      "source": [
        "### Ứng dụng trong tài chính"
      ],
      "metadata": {
        "id": "M3OHMN2ZdUYp"
      }
    },
    {
      "cell_type": "markdown",
      "source": [
        "#### List"
      ],
      "metadata": {
        "id": "5CyQgHnMdnsv"
      }
    },
    {
      "cell_type": "code",
      "source": [
        "expenses = [72.50, 80.75, 50.00, 90.25]\n",
        "total_expenses = sum(expenses)\n",
        "print(\"Total expenses:\", total_expenses)"
      ],
      "metadata": {
        "colab": {
          "base_uri": "https://localhost:8080/"
        },
        "id": "ldLzQbnidpnp",
        "outputId": "4e0bcea1-94a2-4658-9a7d-b8c3b96feb28"
      },
      "execution_count": null,
      "outputs": [
        {
          "output_type": "stream",
          "name": "stdout",
          "text": [
            "Total expenses: 293.5\n"
          ]
        }
      ]
    },
    {
      "cell_type": "markdown",
      "source": [
        "#### Tuple"
      ],
      "metadata": {
        "id": "X91fnsuQdq-A"
      }
    },
    {
      "cell_type": "code",
      "source": [
        "accounts = ((\"Cash\", 1001), (\"Accounts Receivable\", 1002),\n",
        "(\"Inventory\", 1003))\n",
        "for account in accounts:\n",
        "  print(\"Account name:\", account[0], \"Account number:\", account[1])"
      ],
      "metadata": {
        "colab": {
          "base_uri": "https://localhost:8080/"
        },
        "id": "6FD9jGvNdzYx",
        "outputId": "a0e8e54f-5808-4237-96a6-34be9a0382b2"
      },
      "execution_count": null,
      "outputs": [
        {
          "output_type": "stream",
          "name": "stdout",
          "text": [
            "Account name: Cash Account number: 1001\n",
            "Account name: Accounts Receivable Account number: 1002\n",
            "Account name: Inventory Account number: 1003\n"
          ]
        }
      ]
    },
    {
      "cell_type": "markdown",
      "source": [
        "#### Set"
      ],
      "metadata": {
        "id": "K5nrUwKtd3kE"
      }
    },
    {
      "cell_type": "code",
      "source": [
        "account_numbers = {1001, 1002, 1003}\n",
        "new_account_number = 1004\n",
        "if new_account_number not in account_numbers:\n",
        "\n",
        "  print(\"Account number\", new_account_number, \"is not in use.\")"
      ],
      "metadata": {
        "colab": {
          "base_uri": "https://localhost:8080/"
        },
        "id": "s5_XSbt-dhme",
        "outputId": "a3553e16-aad5-4e62-b332-50629beae7a7"
      },
      "execution_count": null,
      "outputs": [
        {
          "output_type": "stream",
          "name": "stdout",
          "text": [
            "Account number 1004 is not in use.\n"
          ]
        }
      ]
    },
    {
      "cell_type": "markdown",
      "source": [
        "#### Dictionary"
      ],
      "metadata": {
        "id": "d9jfitQZeJIK"
      }
    },
    {
      "cell_type": "code",
      "source": [
        "accounts = {\"1001\": {\"name\": \"Cash\", \"balance\": 500.00, \"type\": \"Asset\"},\n",
        "\"1002\": {\"name\": \"Accounts Receivable\", \"balance\": 1000.00, \"type\": \"Asset\"},\n",
        "\"2001\": {\"name\": \"Accounts Payable\", \"balance\": 750.00, \"type\": \"Liability\"}}\n",
        "for account_number, account_info in accounts.items():\n",
        "  print(\"Account number:\", account_number)\n",
        "  print(\"Account name:\", account_info[\"name\"])\n",
        "  print(\"Account balance:\", account_info[\"balance\"])\n",
        "  print(\"Account type:\", account_info[\"type\"])"
      ],
      "metadata": {
        "id": "ZmfUGWbceLsx"
      },
      "execution_count": null,
      "outputs": []
    },
    {
      "cell_type": "markdown",
      "source": [
        "## Logic và vòng lặp trong python\n"
      ],
      "metadata": {
        "id": "TIGliY3LeN5A"
      }
    },
    {
      "cell_type": "code",
      "source": [
        "Python if else\n",
        "• if elif else\n",
        "• Booleans: True, False\n",
        "• Operators: ==, !=, >, <, >=, <=, and, or, not\n",
        "• Python for Loops\n",
        "• for\n",
        "• Python while Loops\n",
        "• While\n",
        "• break\n",
        "• continue"
      ],
      "metadata": {
        "id": "fe3LgfFlewWv"
      },
      "execution_count": null,
      "outputs": []
    },
    {
      "cell_type": "markdown",
      "source": [
        "### If... else"
      ],
      "metadata": {
        "id": "IuXv5ePYe4yh"
      }
    },
    {
      "cell_type": "code",
      "source": [
        "# Python if\n",
        "score = 80\n",
        "\n",
        "if score >=60 :\n",
        "\n",
        "  print(\"Pass\")"
      ],
      "metadata": {
        "id": "HSpuwFsxe6_z"
      },
      "execution_count": null,
      "outputs": []
    },
    {
      "cell_type": "code",
      "source": [
        "# Python if else\n",
        "score = 80\n",
        "if score >=60 :\n",
        "  print(\"Pass\")\n",
        "\n",
        "else:\n",
        "\n",
        "  print(\"Fail\")"
      ],
      "metadata": {
        "id": "jYyygWH1ekUT"
      },
      "execution_count": null,
      "outputs": []
    },
    {
      "cell_type": "code",
      "source": [
        "score = 95\n",
        "if score >= 90 :\n",
        "\n",
        "  print(\"A\")\n",
        "\n",
        "elif score >=60 :\n",
        "  print(\"Pass\")\n",
        "\n",
        "else:\n",
        "\n",
        "  print(\"Fail\")"
      ],
      "metadata": {
        "id": "6jz_QLCIfIsv"
      },
      "execution_count": null,
      "outputs": []
    },
    {
      "cell_type": "code",
      "source": [
        "# Python if elif else\n",
        "score = 90\n",
        "grade = \"\"\n",
        "if score >=90:\n",
        "grade = \"A\"\n",
        "elif score >= 80:\n",
        "grade = \"B\"\n",
        "elif score >= 70:\n",
        "grade = \"C\"\n",
        "elif score >= 60:\n",
        "grade = \"D\"\n",
        "\n",
        "else:\n",
        "\n",
        "grade = \"E\"\n",
        "\n",
        "print(grade)"
      ],
      "metadata": {
        "id": "igQiTIPbfMcV"
      },
      "execution_count": null,
      "outputs": []
    },
    {
      "cell_type": "markdown",
      "source": [
        "### For"
      ],
      "metadata": {
        "id": "vMLnpG5FfPsZ"
      }
    },
    {
      "cell_type": "code",
      "source": [
        "for i in range(1,6):\n",
        "\n",
        "  print(i)"
      ],
      "metadata": {
        "id": "Gg467imefRxt"
      },
      "execution_count": null,
      "outputs": []
    },
    {
      "cell_type": "code",
      "source": [
        "# for loops\n",
        "for i in range(1,10):\n",
        "\n",
        "  for j in range(1,10):\n",
        "    print(i, ' * ' , j , ' = ', i*j)"
      ],
      "metadata": {
        "id": "P02Bv-hjfUka"
      },
      "execution_count": null,
      "outputs": []
    },
    {
      "cell_type": "markdown",
      "source": [
        "### While"
      ],
      "metadata": {
        "id": "kGZNInwhfYb4"
      }
    },
    {
      "cell_type": "code",
      "source": [
        "# while loops\n",
        "age = 10\n",
        "while age < 20:\n",
        "  print(age)\n",
        "  age = age + 1"
      ],
      "metadata": {
        "colab": {
          "base_uri": "https://localhost:8080/"
        },
        "id": "pJiHkvo7faEY",
        "outputId": "90bb6dca-9ec5-4ee0-8db2-1f49b7fcfa60"
      },
      "execution_count": null,
      "outputs": [
        {
          "output_type": "stream",
          "name": "stdout",
          "text": [
            "10\n",
            "11\n",
            "12\n",
            "13\n",
            "14\n",
            "15\n",
            "16\n",
            "17\n",
            "18\n",
            "19\n"
          ]
        }
      ]
    },
    {
      "cell_type": "markdown",
      "source": [
        "## Hàm trong python"
      ],
      "metadata": {
        "id": "zyfcgLTlfq0N"
      }
    },
    {
      "cell_type": "code",
      "source": [
        "# Python Function def\n",
        "# indentation for blocks. four spaces\n",
        "def getfv(pv, r, n):\n",
        "\n",
        "  fv = pv * ((1 + (r)) ** n)\n",
        "  return fv\n",
        "\n",
        "fv = getfv(100, 0.1, 7)\n",
        "print(round(fv, 2))"
      ],
      "metadata": {
        "colab": {
          "base_uri": "https://localhost:8080/"
        },
        "id": "HKVHEGH3gCxB",
        "outputId": "b85f0158-50a5-4876-e58f-0d48d36d9f84"
      },
      "execution_count": null,
      "outputs": [
        {
          "output_type": "stream",
          "name": "stdout",
          "text": [
            "194.87\n"
          ]
        }
      ]
    },
    {
      "cell_type": "markdown",
      "source": [
        "###  hàm main"
      ],
      "metadata": {
        "id": "tBkQcXOJjAN2"
      }
    },
    {
      "cell_type": "code",
      "source": [
        "#Python main() function\n",
        "def main():\n",
        "\n",
        "  print(\"Hello World!\")\n",
        "\n",
        "if __name__ == \"__main__\":\n",
        "\n",
        "  main()"
      ],
      "metadata": {
        "colab": {
          "base_uri": "https://localhost:8080/"
        },
        "id": "Xg8mxBMXjD7s",
        "outputId": "c330f5ca-1af6-4189-86e7-782f62e5ff29"
      },
      "execution_count": null,
      "outputs": [
        {
          "output_type": "stream",
          "name": "stdout",
          "text": [
            "Hello World!\n"
          ]
        }
      ]
    },
    {
      "cell_type": "markdown",
      "source": [
        "## Lớp và đối tượng trong python"
      ],
      "metadata": {
        "id": "BtlsBbsIgEgx"
      }
    },
    {
      "cell_type": "markdown",
      "source": [
        "##"
      ],
      "metadata": {
        "id": "ad9-jsurf9CY"
      }
    },
    {
      "cell_type": "code",
      "source": [
        "# Python class\n",
        "class MyClass:\n",
        "  x = 5\n",
        "\n",
        "c1 = MyClass()\n",
        "print(c1.x)"
      ],
      "metadata": {
        "colab": {
          "base_uri": "https://localhost:8080/"
        },
        "id": "Ern-9c4Rfqgy",
        "outputId": "c4e35fe8-f16b-44ec-ac32-4bc4fa00a542"
      },
      "execution_count": null,
      "outputs": [
        {
          "output_type": "stream",
          "name": "stdout",
          "text": [
            "5\n"
          ]
        }
      ]
    },
    {
      "cell_type": "code",
      "source": [
        "class Person:\n",
        "  def __init__(self, name, age):\n",
        "    self.name = name\n",
        "    self.age = age\n",
        "\n",
        "p1 = Person(\"Alan\", 20)\n",
        "print(p1.name)\n",
        "print(p1.age)"
      ],
      "metadata": {
        "colab": {
          "base_uri": "https://localhost:8080/"
        },
        "id": "S6qUcbw_gUjl",
        "outputId": "3c66909c-54b7-453c-8d12-6becc479e897"
      },
      "execution_count": null,
      "outputs": [
        {
          "output_type": "stream",
          "name": "stdout",
          "text": [
            "Alan\n",
            "20\n"
          ]
        }
      ]
    },
    {
      "cell_type": "code",
      "source": [
        "class Person:\n",
        "\n",
        "  def __init__(self, name, age):\n",
        "    self.name = name\n",
        "    self.age = age\n",
        "\n",
        "  def myfunc(self):\n",
        "\n",
        "    print(\"Hello my name is \" + self.name)\n",
        "\n",
        "p1 = Person(\"Alan\", 20)\n",
        "p1.myfunc()\n",
        "print(p1.name)\n",
        "print(p1.age)"
      ],
      "metadata": {
        "colab": {
          "base_uri": "https://localhost:8080/"
        },
        "id": "rT8zj8SggqX6",
        "outputId": "4dea3bb1-9fe1-4348-de82-957607eee123"
      },
      "execution_count": null,
      "outputs": [
        {
          "output_type": "stream",
          "name": "stdout",
          "text": [
            "Hello my name is Alan\n",
            "Alan\n",
            "20\n"
          ]
        }
      ]
    },
    {
      "cell_type": "code",
      "source": [
        "class Vehicle:\n",
        "  name = \"\"\n",
        "  kind = \"car\"\n",
        "  color = \"\"\n",
        "  value = 100.00\n",
        "  def description(self):\n",
        "\n",
        "    desc_str = \"%s is a %s %s worth $%.2f.\" %(self.name, self.color, self.kind, self.value)\n",
        "    return desc_str\n",
        "car1 = Vehicle()\n",
        "car1.name = \"Fer\"\n",
        "car1.color = \"red\"\n",
        "car1.kind = \"convertible\"\n",
        "car1.value = 60000.00\n",
        "\n",
        "car2 = Vehicle()\n",
        "car2.name = \"Jump\"\n",
        "car2.color = \"blue\"\n",
        "car2.kind = \"van\"\n",
        "car2.value = 10000.00\n",
        "\n",
        "print(car1.description())\n",
        "print(car1.name)\n",
        "print(car2.description())\n",
        "print(car2.name)"
      ],
      "metadata": {
        "colab": {
          "base_uri": "https://localhost:8080/"
        },
        "id": "VKF1GSrEg_Ms",
        "outputId": "cb8b1152-58df-4cda-b247-49e2cd2656e3"
      },
      "execution_count": null,
      "outputs": [
        {
          "output_type": "stream",
          "name": "stdout",
          "text": [
            "Fer is a red convertible worth $60000.00.\n",
            "Fer\n",
            "Jump is a blue van worth $10000.00.\n",
            "Jump\n"
          ]
        }
      ]
    },
    {
      "cell_type": "markdown",
      "source": [
        "## Module"
      ],
      "metadata": {
        "id": "EwU2RG3HhtD-"
      }
    },
    {
      "cell_type": "code",
      "source": [
        "# mymodule.py\n",
        "def greeting(name):\n",
        "\n",
        "  print(\"Hello, \" + name)"
      ],
      "metadata": {
        "id": "RG4kViMphhA4"
      },
      "execution_count": null,
      "outputs": []
    },
    {
      "cell_type": "code",
      "source": [
        "import mymodule\n",
        "mymodule.greeting(\"Alan\")"
      ],
      "metadata": {
        "colab": {
          "base_uri": "https://localhost:8080/",
          "height": 332
        },
        "id": "KxtlCZK-hd-1",
        "outputId": "0d7c6217-f4e1-425f-bfbb-179a5607db45"
      },
      "execution_count": null,
      "outputs": [
        {
          "output_type": "error",
          "ename": "ModuleNotFoundError",
          "evalue": "No module named 'mymodule'",
          "traceback": [
            "\u001b[0;31m---------------------------------------------------------------------------\u001b[0m",
            "\u001b[0;31mModuleNotFoundError\u001b[0m                       Traceback (most recent call last)",
            "\u001b[0;32m/tmp/ipython-input-1185980218.py\u001b[0m in \u001b[0;36m<cell line: 0>\u001b[0;34m()\u001b[0m\n\u001b[0;32m----> 1\u001b[0;31m \u001b[0;32mimport\u001b[0m \u001b[0mmymodule\u001b[0m\u001b[0;34m\u001b[0m\u001b[0;34m\u001b[0m\u001b[0m\n\u001b[0m\u001b[1;32m      2\u001b[0m \u001b[0mmymodule\u001b[0m\u001b[0;34m.\u001b[0m\u001b[0mgreeting\u001b[0m\u001b[0;34m(\u001b[0m\u001b[0;34m\"Alan\"\u001b[0m\u001b[0;34m)\u001b[0m\u001b[0;34m\u001b[0m\u001b[0;34m\u001b[0m\u001b[0m\n",
            "\u001b[0;31mModuleNotFoundError\u001b[0m: No module named 'mymodule'",
            "",
            "\u001b[0;31m---------------------------------------------------------------------------\u001b[0;32m\nNOTE: If your import is failing due to a missing package, you can\nmanually install dependencies using either !pip or !apt.\n\nTo view examples of installing some common dependencies, click the\n\"Open Examples\" button below.\n\u001b[0;31m---------------------------------------------------------------------------\u001b[0m\n"
          ],
          "errorDetails": {
            "actions": [
              {
                "action": "open_url",
                "actionText": "Open Examples",
                "url": "/notebooks/snippets/importing_libraries.ipynb"
              }
            ]
          }
        }
      ]
    },
    {
      "cell_type": "markdown",
      "source": [
        "## File input/output"
      ],
      "metadata": {
        "id": "7JBpFrbviHfD"
      }
    },
    {
      "cell_type": "code",
      "source": [
        "# Python File Input / Output\n",
        "with open('myfile.txt', 'w') as file:\n",
        "\n",
        "  file.write('Hello World\\nThis is Python File Input Output')\n",
        "\n",
        "with open('myfile.txt', 'r') as file:\n",
        "\n",
        "  text = file.read()\n",
        "  print(text)"
      ],
      "metadata": {
        "id": "1OZCDHUMiKg4"
      },
      "execution_count": null,
      "outputs": []
    },
    {
      "cell_type": "markdown",
      "source": [
        "## Files"
      ],
      "metadata": {
        "id": "UQfIYNTFjZh5"
      }
    },
    {
      "cell_type": "code",
      "source": [
        "# !ls list files\n",
        "!ls"
      ],
      "metadata": {
        "colab": {
          "base_uri": "https://localhost:8080/"
        },
        "id": "Hqrzyj3wjbCB",
        "outputId": "ab75dada-e52d-40a3-99ba-a769c58328e0"
      },
      "execution_count": null,
      "outputs": [
        {
          "output_type": "stream",
          "name": "stdout",
          "text": [
            "sample_data\n"
          ]
        }
      ]
    },
    {
      "cell_type": "code",
      "source": [
        "import os\n",
        "\n",
        "cwd = os.getcwd()\n",
        "print(cwd)"
      ],
      "metadata": {
        "colab": {
          "base_uri": "https://localhost:8080/"
        },
        "id": "ZpeKdn7ojir2",
        "outputId": "1fda87b0-13ca-49dd-acc4-0522c2feccc8"
      },
      "execution_count": null,
      "outputs": [
        {
          "output_type": "stream",
          "name": "stdout",
          "text": [
            "/content\n"
          ]
        }
      ]
    },
    {
      "cell_type": "code",
      "source": [
        "os.listdir(cwd)"
      ],
      "metadata": {
        "colab": {
          "base_uri": "https://localhost:8080/"
        },
        "id": "YWQfR8KKjtod",
        "outputId": "77c71276-c859-45b1-a3fb-394f26a4ecac"
      },
      "execution_count": null,
      "outputs": [
        {
          "output_type": "execute_result",
          "data": {
            "text/plain": [
              "['.config', 'sample_data']"
            ]
          },
          "metadata": {},
          "execution_count": 33
        }
      ]
    },
    {
      "cell_type": "code",
      "source": [
        "path = os.path.join(cwd,'sample_data')\n",
        "\n",
        "print(path)\n",
        "os.listdir(path)"
      ],
      "metadata": {
        "colab": {
          "base_uri": "https://localhost:8080/"
        },
        "id": "d9_QlTeFjyo8",
        "outputId": "23d133a9-8812-409f-ad18-3a5b56495e32"
      },
      "execution_count": null,
      "outputs": [
        {
          "output_type": "stream",
          "name": "stdout",
          "text": [
            "/content/sample_data\n"
          ]
        },
        {
          "output_type": "execute_result",
          "data": {
            "text/plain": [
              "['anscombe.json',\n",
              " 'README.md',\n",
              " 'mnist_test.csv',\n",
              " 'mnist_train_small.csv',\n",
              " 'california_housing_train.csv',\n",
              " 'california_housing_test.csv']"
            ]
          },
          "metadata": {},
          "execution_count": 34
        }
      ]
    },
    {
      "cell_type": "markdown",
      "source": [
        "### Tải file"
      ],
      "metadata": {
        "id": "xPt2DZ5Rlgzr"
      }
    },
    {
      "cell_type": "code",
      "source": [
        "from google.colab import files\n",
        "\n",
        "with open('io_file_myday.txt', 'w') as f:\n",
        "\n",
        "  f.write('Google Colab File Write Text some content Myday')\n",
        "\n",
        "import time\n",
        "time.sleep(1) # time sleep 1 second\n",
        "\n",
        "files.download('io_file_myday.txt')\n",
        "print('downloaded')"
      ],
      "metadata": {
        "colab": {
          "base_uri": "https://localhost:8080/",
          "height": 34
        },
        "id": "TYusu2mIj5H9",
        "outputId": "68d86f88-dbf1-4c40-cb3a-bd175cff1eac"
      },
      "execution_count": null,
      "outputs": [
        {
          "output_type": "display_data",
          "data": {
            "text/plain": [
              "<IPython.core.display.Javascript object>"
            ],
            "application/javascript": [
              "\n",
              "    async function download(id, filename, size) {\n",
              "      if (!google.colab.kernel.accessAllowed) {\n",
              "        return;\n",
              "      }\n",
              "      const div = document.createElement('div');\n",
              "      const label = document.createElement('label');\n",
              "      label.textContent = `Downloading \"${filename}\": `;\n",
              "      div.appendChild(label);\n",
              "      const progress = document.createElement('progress');\n",
              "      progress.max = size;\n",
              "      div.appendChild(progress);\n",
              "      document.body.appendChild(div);\n",
              "\n",
              "      const buffers = [];\n",
              "      let downloaded = 0;\n",
              "\n",
              "      const channel = await google.colab.kernel.comms.open(id);\n",
              "      // Send a message to notify the kernel that we're ready.\n",
              "      channel.send({})\n",
              "\n",
              "      for await (const message of channel.messages) {\n",
              "        // Send a message to notify the kernel that we're ready.\n",
              "        channel.send({})\n",
              "        if (message.buffers) {\n",
              "          for (const buffer of message.buffers) {\n",
              "            buffers.push(buffer);\n",
              "            downloaded += buffer.byteLength;\n",
              "            progress.value = downloaded;\n",
              "          }\n",
              "        }\n",
              "      }\n",
              "      const blob = new Blob(buffers, {type: 'application/binary'});\n",
              "      const a = document.createElement('a');\n",
              "      a.href = window.URL.createObjectURL(blob);\n",
              "      a.download = filename;\n",
              "      div.appendChild(a);\n",
              "      a.click();\n",
              "      div.remove();\n",
              "    }\n",
              "  "
            ]
          },
          "metadata": {}
        },
        {
          "output_type": "display_data",
          "data": {
            "text/plain": [
              "<IPython.core.display.Javascript object>"
            ],
            "application/javascript": [
              "download(\"download_4b7b59b4-a9d5-498c-b22d-ffba57149603\", \"io_file_myday.txt\", 47)"
            ]
          },
          "metadata": {}
        },
        {
          "output_type": "stream",
          "name": "stdout",
          "text": [
            "downloaded\n"
          ]
        }
      ]
    },
    {
      "cell_type": "markdown",
      "source": [
        "### Upload file"
      ],
      "metadata": {
        "id": "6cjLWXo_lm4E"
      }
    },
    {
      "cell_type": "code",
      "source": [
        "from google.colab import files\n",
        "uploaded = files.upload()\n",
        "\n",
        "for fn in uploaded.keys():\n",
        "\n",
        "  print('User uploaded file \"{name}\"with length {length} bytes'.format(name=fn, length=len(uploaded[fn])))"
      ],
      "metadata": {
        "colab": {
          "base_uri": "https://localhost:8080/",
          "height": 91
        },
        "id": "306FvPxskKfL",
        "outputId": "38bdd882-5a06-4567-82e4-b536c69ed114"
      },
      "execution_count": null,
      "outputs": [
        {
          "output_type": "display_data",
          "data": {
            "text/plain": [
              "<IPython.core.display.HTML object>"
            ],
            "text/html": [
              "\n",
              "     <input type=\"file\" id=\"files-96b1f2db-1a98-4308-8032-efaaf493ebb3\" name=\"files[]\" multiple disabled\n",
              "        style=\"border:none\" />\n",
              "     <output id=\"result-96b1f2db-1a98-4308-8032-efaaf493ebb3\">\n",
              "      Upload widget is only available when the cell has been executed in the\n",
              "      current browser session. Please rerun this cell to enable.\n",
              "      </output>\n",
              "      <script>// Copyright 2017 Google LLC\n",
              "//\n",
              "// Licensed under the Apache License, Version 2.0 (the \"License\");\n",
              "// you may not use this file except in compliance with the License.\n",
              "// You may obtain a copy of the License at\n",
              "//\n",
              "//      http://www.apache.org/licenses/LICENSE-2.0\n",
              "//\n",
              "// Unless required by applicable law or agreed to in writing, software\n",
              "// distributed under the License is distributed on an \"AS IS\" BASIS,\n",
              "// WITHOUT WARRANTIES OR CONDITIONS OF ANY KIND, either express or implied.\n",
              "// See the License for the specific language governing permissions and\n",
              "// limitations under the License.\n",
              "\n",
              "/**\n",
              " * @fileoverview Helpers for google.colab Python module.\n",
              " */\n",
              "(function(scope) {\n",
              "function span(text, styleAttributes = {}) {\n",
              "  const element = document.createElement('span');\n",
              "  element.textContent = text;\n",
              "  for (const key of Object.keys(styleAttributes)) {\n",
              "    element.style[key] = styleAttributes[key];\n",
              "  }\n",
              "  return element;\n",
              "}\n",
              "\n",
              "// Max number of bytes which will be uploaded at a time.\n",
              "const MAX_PAYLOAD_SIZE = 100 * 1024;\n",
              "\n",
              "function _uploadFiles(inputId, outputId) {\n",
              "  const steps = uploadFilesStep(inputId, outputId);\n",
              "  const outputElement = document.getElementById(outputId);\n",
              "  // Cache steps on the outputElement to make it available for the next call\n",
              "  // to uploadFilesContinue from Python.\n",
              "  outputElement.steps = steps;\n",
              "\n",
              "  return _uploadFilesContinue(outputId);\n",
              "}\n",
              "\n",
              "// This is roughly an async generator (not supported in the browser yet),\n",
              "// where there are multiple asynchronous steps and the Python side is going\n",
              "// to poll for completion of each step.\n",
              "// This uses a Promise to block the python side on completion of each step,\n",
              "// then passes the result of the previous step as the input to the next step.\n",
              "function _uploadFilesContinue(outputId) {\n",
              "  const outputElement = document.getElementById(outputId);\n",
              "  const steps = outputElement.steps;\n",
              "\n",
              "  const next = steps.next(outputElement.lastPromiseValue);\n",
              "  return Promise.resolve(next.value.promise).then((value) => {\n",
              "    // Cache the last promise value to make it available to the next\n",
              "    // step of the generator.\n",
              "    outputElement.lastPromiseValue = value;\n",
              "    return next.value.response;\n",
              "  });\n",
              "}\n",
              "\n",
              "/**\n",
              " * Generator function which is called between each async step of the upload\n",
              " * process.\n",
              " * @param {string} inputId Element ID of the input file picker element.\n",
              " * @param {string} outputId Element ID of the output display.\n",
              " * @return {!Iterable<!Object>} Iterable of next steps.\n",
              " */\n",
              "function* uploadFilesStep(inputId, outputId) {\n",
              "  const inputElement = document.getElementById(inputId);\n",
              "  inputElement.disabled = false;\n",
              "\n",
              "  const outputElement = document.getElementById(outputId);\n",
              "  outputElement.innerHTML = '';\n",
              "\n",
              "  const pickedPromise = new Promise((resolve) => {\n",
              "    inputElement.addEventListener('change', (e) => {\n",
              "      resolve(e.target.files);\n",
              "    });\n",
              "  });\n",
              "\n",
              "  const cancel = document.createElement('button');\n",
              "  inputElement.parentElement.appendChild(cancel);\n",
              "  cancel.textContent = 'Cancel upload';\n",
              "  const cancelPromise = new Promise((resolve) => {\n",
              "    cancel.onclick = () => {\n",
              "      resolve(null);\n",
              "    };\n",
              "  });\n",
              "\n",
              "  // Wait for the user to pick the files.\n",
              "  const files = yield {\n",
              "    promise: Promise.race([pickedPromise, cancelPromise]),\n",
              "    response: {\n",
              "      action: 'starting',\n",
              "    }\n",
              "  };\n",
              "\n",
              "  cancel.remove();\n",
              "\n",
              "  // Disable the input element since further picks are not allowed.\n",
              "  inputElement.disabled = true;\n",
              "\n",
              "  if (!files) {\n",
              "    return {\n",
              "      response: {\n",
              "        action: 'complete',\n",
              "      }\n",
              "    };\n",
              "  }\n",
              "\n",
              "  for (const file of files) {\n",
              "    const li = document.createElement('li');\n",
              "    li.append(span(file.name, {fontWeight: 'bold'}));\n",
              "    li.append(span(\n",
              "        `(${file.type || 'n/a'}) - ${file.size} bytes, ` +\n",
              "        `last modified: ${\n",
              "            file.lastModifiedDate ? file.lastModifiedDate.toLocaleDateString() :\n",
              "                                    'n/a'} - `));\n",
              "    const percent = span('0% done');\n",
              "    li.appendChild(percent);\n",
              "\n",
              "    outputElement.appendChild(li);\n",
              "\n",
              "    const fileDataPromise = new Promise((resolve) => {\n",
              "      const reader = new FileReader();\n",
              "      reader.onload = (e) => {\n",
              "        resolve(e.target.result);\n",
              "      };\n",
              "      reader.readAsArrayBuffer(file);\n",
              "    });\n",
              "    // Wait for the data to be ready.\n",
              "    let fileData = yield {\n",
              "      promise: fileDataPromise,\n",
              "      response: {\n",
              "        action: 'continue',\n",
              "      }\n",
              "    };\n",
              "\n",
              "    // Use a chunked sending to avoid message size limits. See b/62115660.\n",
              "    let position = 0;\n",
              "    do {\n",
              "      const length = Math.min(fileData.byteLength - position, MAX_PAYLOAD_SIZE);\n",
              "      const chunk = new Uint8Array(fileData, position, length);\n",
              "      position += length;\n",
              "\n",
              "      const base64 = btoa(String.fromCharCode.apply(null, chunk));\n",
              "      yield {\n",
              "        response: {\n",
              "          action: 'append',\n",
              "          file: file.name,\n",
              "          data: base64,\n",
              "        },\n",
              "      };\n",
              "\n",
              "      let percentDone = fileData.byteLength === 0 ?\n",
              "          100 :\n",
              "          Math.round((position / fileData.byteLength) * 100);\n",
              "      percent.textContent = `${percentDone}% done`;\n",
              "\n",
              "    } while (position < fileData.byteLength);\n",
              "  }\n",
              "\n",
              "  // All done.\n",
              "  yield {\n",
              "    response: {\n",
              "      action: 'complete',\n",
              "    }\n",
              "  };\n",
              "}\n",
              "\n",
              "scope.google = scope.google || {};\n",
              "scope.google.colab = scope.google.colab || {};\n",
              "scope.google.colab._files = {\n",
              "  _uploadFiles,\n",
              "  _uploadFilesContinue,\n",
              "};\n",
              "})(self);\n",
              "</script> "
            ]
          },
          "metadata": {}
        },
        {
          "output_type": "stream",
          "name": "stdout",
          "text": [
            "Saving io_file_myday.txt to io_file_myday (1).txt\n",
            "User uploaded file \"io_file_myday (1).txt\"with length 47 bytes\n"
          ]
        }
      ]
    },
    {
      "cell_type": "markdown",
      "source": [
        "### xóa file"
      ],
      "metadata": {
        "id": "DeWROYGnlool"
      }
    },
    {
      "cell_type": "code",
      "source": [
        "import os\n",
        "if os.path.exists(\"io_file_myday.txt\"):\n",
        "\n",
        "  os.remove(\"io_file_myday.txt\")\n",
        "  print(\"io_file_myday.txt removed\")\n",
        "\n",
        "else:\n",
        "\n",
        "  print(\"The file does not exist\")"
      ],
      "metadata": {
        "colab": {
          "base_uri": "https://localhost:8080/"
        },
        "id": "6i6zy27Xk_u2",
        "outputId": "460879a2-e557-4aca-869e-2d96a494788c"
      },
      "execution_count": null,
      "outputs": [
        {
          "output_type": "stream",
          "name": "stdout",
          "text": [
            "io_file_myday.txt removed\n"
          ]
        }
      ]
    },
    {
      "cell_type": "code",
      "source": [
        "import os\n",
        "os.listdir()\n",
        "os.mkdir(\"myfolder1\")\n",
        "os.listdir()\n",
        "os.rmdir(\"myfolder1\")\n",
        "os.listdir()"
      ],
      "metadata": {
        "colab": {
          "base_uri": "https://localhost:8080/"
        },
        "id": "6gDSJydVlUuH",
        "outputId": "4279cfb1-84da-467c-8e1c-97c499d9e328"
      },
      "execution_count": null,
      "outputs": [
        {
          "output_type": "execute_result",
          "data": {
            "text/plain": [
              "['.config', '.ipynb_checkpoints', 'sample_data']"
            ]
          },
          "metadata": {},
          "execution_count": 44
        }
      ]
    },
    {
      "cell_type": "markdown",
      "source": [
        "## Try except"
      ],
      "metadata": {
        "id": "yW1xEBEplrE0"
      }
    },
    {
      "cell_type": "markdown",
      "source": [
        "### Try except"
      ],
      "metadata": {
        "id": "yN-yRlK6mzOf"
      }
    },
    {
      "cell_type": "code",
      "source": [
        "#Python try except\n",
        "try:\n",
        "\n",
        "  print(x)\n",
        "\n",
        "except:\n",
        "\n",
        "  print(\"Exception Error\")"
      ],
      "metadata": {
        "colab": {
          "base_uri": "https://localhost:8080/"
        },
        "id": "u4H3EK4vlxYa",
        "outputId": "d5b74db2-80d6-4ad2-c740-5b8110a6fef8"
      },
      "execution_count": null,
      "outputs": [
        {
          "output_type": "stream",
          "name": "stdout",
          "text": [
            "[60, 70, 80, 90]\n"
          ]
        }
      ]
    },
    {
      "cell_type": "markdown",
      "source": [
        "### Try except finally"
      ],
      "metadata": {
        "id": "Q7OSmKrym27L"
      }
    },
    {
      "cell_type": "code",
      "source": [
        "#Python try except finally\n",
        "try:\n",
        "\n",
        "  print(\"Hello\")\n",
        "\n",
        "except:\n",
        "\n",
        "  print(\"Exception Error\")\n",
        "\n",
        "finally:\n",
        "\n",
        "  print(\"Finally process\")"
      ],
      "metadata": {
        "colab": {
          "base_uri": "https://localhost:8080/"
        },
        "id": "6Ta_eI07mApk",
        "outputId": "14fc038e-b044-4437-f39d-5a28b7676c76"
      },
      "execution_count": null,
      "outputs": [
        {
          "output_type": "stream",
          "name": "stdout",
          "text": [
            "Hello\n",
            "Finally process\n"
          ]
        }
      ]
    },
    {
      "cell_type": "markdown",
      "source": [
        "### Try except else"
      ],
      "metadata": {
        "id": "TxYFo0y4m56y"
      }
    },
    {
      "cell_type": "code",
      "source": [
        "#Python try except else\n",
        "try:\n",
        "\n",
        "  print(\"Hello\")\n",
        "\n",
        "except:\n",
        "\n",
        "  print(\"Exception Error\")\n",
        "\n",
        "else:\n",
        "\n",
        "  print(\"No exception\")"
      ],
      "metadata": {
        "colab": {
          "base_uri": "https://localhost:8080/"
        },
        "id": "HSYnC5VSmHbv",
        "outputId": "4bfb47d4-e932-4610-892d-37c9a79a62be"
      },
      "execution_count": null,
      "outputs": [
        {
          "output_type": "stream",
          "name": "stdout",
          "text": [
            "Hello\n",
            "No exception\n"
          ]
        }
      ]
    },
    {
      "cell_type": "markdown",
      "source": [
        "### Try except else finally"
      ],
      "metadata": {
        "id": "7v0FMFJ-m9c3"
      }
    },
    {
      "cell_type": "code",
      "source": [
        "try:\n",
        "\n",
        "  print(\"Hello\")\n",
        "\n",
        "except:\n",
        "\n",
        "  print(\"Exception Error\")\n",
        "\n",
        "else:\n",
        "\n",
        "  print(\"No exception\")\n",
        "\n",
        "finally:\n",
        "\n",
        "  print(\"Finally process\")"
      ],
      "metadata": {
        "colab": {
          "base_uri": "https://localhost:8080/"
        },
        "id": "0p_xJathmN8B",
        "outputId": "3171b2eb-72c9-4740-c49b-5c80af6905f6"
      },
      "execution_count": null,
      "outputs": [
        {
          "output_type": "stream",
          "name": "stdout",
          "text": [
            "Hello\n",
            "No exception\n",
            "Finally process\n"
          ]
        }
      ]
    },
    {
      "cell_type": "code",
      "source": [
        "4try:\n",
        "\n",
        "  price = float(input(\"Enter the price of the stock (e.g. 10):\"))\n",
        "  shares = int(input(\"Enter the number of shares (e.g. 2):\"))\n",
        "  total = price * shares\n",
        "except Exception as e:\n",
        "\n",
        "  print(\"Exception error:\", str(e))\n",
        "\n",
        "else:\n",
        "\n",
        "  print(\"The total value of the shares is:\", total)\n",
        "\n",
        "finally:\n",
        "\n",
        "  print(\"Thank you.\")"
      ],
      "metadata": {
        "colab": {
          "base_uri": "https://localhost:8080/"
        },
        "id": "-bPC5BLVmbFd",
        "outputId": "5d2182fc-60d5-406d-ed53-87371d33e684"
      },
      "execution_count": null,
      "outputs": [
        {
          "output_type": "stream",
          "name": "stdout",
          "text": [
            "Enter the price of the stock (e.g. 10):2\n",
            "Enter the number of shares (e.g. 2):3\n",
            "The total value of the shares is: 6.0\n",
            "Thank you.\n"
          ]
        }
      ]
    },
    {
      "cell_type": "markdown",
      "source": [
        "# Kết thúc"
      ],
      "metadata": {
        "id": "znJSf2nTFsHw"
      }
    },
    {
      "cell_type": "code",
      "source": [
        "!jupyter nbconvert --to html /content/tên_file.ipynb\n"
      ],
      "metadata": {
        "id": "8WNY5kcYYdI8",
        "outputId": "393a3cc8-3622-4690-b544-852a219d4271",
        "colab": {
          "base_uri": "https://localhost:8080/"
        }
      },
      "execution_count": null,
      "outputs": [
        {
          "output_type": "stream",
          "name": "stdout",
          "text": [
            "[NbConvertApp] WARNING | pattern '/content/tên_file.ipynb' matched no files\n",
            "This application is used to convert notebook files (*.ipynb)\n",
            "        to various other formats.\n",
            "\n",
            "        WARNING: THE COMMANDLINE INTERFACE MAY CHANGE IN FUTURE RELEASES.\n",
            "\n",
            "Options\n",
            "=======\n",
            "The options below are convenience aliases to configurable class-options,\n",
            "as listed in the \"Equivalent to\" description-line of the aliases.\n",
            "To see all configurable class-options for some <cmd>, use:\n",
            "    <cmd> --help-all\n",
            "\n",
            "--debug\n",
            "    set log level to logging.DEBUG (maximize logging output)\n",
            "    Equivalent to: [--Application.log_level=10]\n",
            "--show-config\n",
            "    Show the application's configuration (human-readable format)\n",
            "    Equivalent to: [--Application.show_config=True]\n",
            "--show-config-json\n",
            "    Show the application's configuration (json format)\n",
            "    Equivalent to: [--Application.show_config_json=True]\n",
            "--generate-config\n",
            "    generate default config file\n",
            "    Equivalent to: [--JupyterApp.generate_config=True]\n",
            "-y\n",
            "    Answer yes to any questions instead of prompting.\n",
            "    Equivalent to: [--JupyterApp.answer_yes=True]\n",
            "--execute\n",
            "    Execute the notebook prior to export.\n",
            "    Equivalent to: [--ExecutePreprocessor.enabled=True]\n",
            "--allow-errors\n",
            "    Continue notebook execution even if one of the cells throws an error and include the error message in the cell output (the default behaviour is to abort conversion). This flag is only relevant if '--execute' was specified, too.\n",
            "    Equivalent to: [--ExecutePreprocessor.allow_errors=True]\n",
            "--stdin\n",
            "    read a single notebook file from stdin. Write the resulting notebook with default basename 'notebook.*'\n",
            "    Equivalent to: [--NbConvertApp.from_stdin=True]\n",
            "--stdout\n",
            "    Write notebook output to stdout instead of files.\n",
            "    Equivalent to: [--NbConvertApp.writer_class=StdoutWriter]\n",
            "--inplace\n",
            "    Run nbconvert in place, overwriting the existing notebook (only\n",
            "            relevant when converting to notebook format)\n",
            "    Equivalent to: [--NbConvertApp.use_output_suffix=False --NbConvertApp.export_format=notebook --FilesWriter.build_directory=]\n",
            "--clear-output\n",
            "    Clear output of current file and save in place,\n",
            "            overwriting the existing notebook.\n",
            "    Equivalent to: [--NbConvertApp.use_output_suffix=False --NbConvertApp.export_format=notebook --FilesWriter.build_directory= --ClearOutputPreprocessor.enabled=True]\n",
            "--coalesce-streams\n",
            "    Coalesce consecutive stdout and stderr outputs into one stream (within each cell).\n",
            "    Equivalent to: [--NbConvertApp.use_output_suffix=False --NbConvertApp.export_format=notebook --FilesWriter.build_directory= --CoalesceStreamsPreprocessor.enabled=True]\n",
            "--no-prompt\n",
            "    Exclude input and output prompts from converted document.\n",
            "    Equivalent to: [--TemplateExporter.exclude_input_prompt=True --TemplateExporter.exclude_output_prompt=True]\n",
            "--no-input\n",
            "    Exclude input cells and output prompts from converted document.\n",
            "            This mode is ideal for generating code-free reports.\n",
            "    Equivalent to: [--TemplateExporter.exclude_output_prompt=True --TemplateExporter.exclude_input=True --TemplateExporter.exclude_input_prompt=True]\n",
            "--allow-chromium-download\n",
            "    Whether to allow downloading chromium if no suitable version is found on the system.\n",
            "    Equivalent to: [--WebPDFExporter.allow_chromium_download=True]\n",
            "--disable-chromium-sandbox\n",
            "    Disable chromium security sandbox when converting to PDF..\n",
            "    Equivalent to: [--WebPDFExporter.disable_sandbox=True]\n",
            "--show-input\n",
            "    Shows code input. This flag is only useful for dejavu users.\n",
            "    Equivalent to: [--TemplateExporter.exclude_input=False]\n",
            "--embed-images\n",
            "    Embed the images as base64 dataurls in the output. This flag is only useful for the HTML/WebPDF/Slides exports.\n",
            "    Equivalent to: [--HTMLExporter.embed_images=True]\n",
            "--sanitize-html\n",
            "    Whether the HTML in Markdown cells and cell outputs should be sanitized..\n",
            "    Equivalent to: [--HTMLExporter.sanitize_html=True]\n",
            "--log-level=<Enum>\n",
            "    Set the log level by value or name.\n",
            "    Choices: any of [0, 10, 20, 30, 40, 50, 'DEBUG', 'INFO', 'WARN', 'ERROR', 'CRITICAL']\n",
            "    Default: 30\n",
            "    Equivalent to: [--Application.log_level]\n",
            "--config=<Unicode>\n",
            "    Full path of a config file.\n",
            "    Default: ''\n",
            "    Equivalent to: [--JupyterApp.config_file]\n",
            "--to=<Unicode>\n",
            "    The export format to be used, either one of the built-in formats\n",
            "            ['asciidoc', 'custom', 'html', 'latex', 'markdown', 'notebook', 'pdf', 'python', 'qtpdf', 'qtpng', 'rst', 'script', 'slides', 'webpdf']\n",
            "            or a dotted object name that represents the import path for an\n",
            "            ``Exporter`` class\n",
            "    Default: ''\n",
            "    Equivalent to: [--NbConvertApp.export_format]\n",
            "--template=<Unicode>\n",
            "    Name of the template to use\n",
            "    Default: ''\n",
            "    Equivalent to: [--TemplateExporter.template_name]\n",
            "--template-file=<Unicode>\n",
            "    Name of the template file to use\n",
            "    Default: None\n",
            "    Equivalent to: [--TemplateExporter.template_file]\n",
            "--theme=<Unicode>\n",
            "    Template specific theme(e.g. the name of a JupyterLab CSS theme distributed\n",
            "    as prebuilt extension for the lab template)\n",
            "    Default: 'light'\n",
            "    Equivalent to: [--HTMLExporter.theme]\n",
            "--sanitize_html=<Bool>\n",
            "    Whether the HTML in Markdown cells and cell outputs should be sanitized.This\n",
            "    should be set to True by nbviewer or similar tools.\n",
            "    Default: False\n",
            "    Equivalent to: [--HTMLExporter.sanitize_html]\n",
            "--writer=<DottedObjectName>\n",
            "    Writer class used to write the\n",
            "                                        results of the conversion\n",
            "    Default: 'FilesWriter'\n",
            "    Equivalent to: [--NbConvertApp.writer_class]\n",
            "--post=<DottedOrNone>\n",
            "    PostProcessor class used to write the\n",
            "                                        results of the conversion\n",
            "    Default: ''\n",
            "    Equivalent to: [--NbConvertApp.postprocessor_class]\n",
            "--output=<Unicode>\n",
            "    Overwrite base name use for output files.\n",
            "                Supports pattern replacements '{notebook_name}'.\n",
            "    Default: '{notebook_name}'\n",
            "    Equivalent to: [--NbConvertApp.output_base]\n",
            "--output-dir=<Unicode>\n",
            "    Directory to write output(s) to. Defaults\n",
            "                                  to output to the directory of each notebook. To recover\n",
            "                                  previous default behaviour (outputting to the current\n",
            "                                  working directory) use . as the flag value.\n",
            "    Default: ''\n",
            "    Equivalent to: [--FilesWriter.build_directory]\n",
            "--reveal-prefix=<Unicode>\n",
            "    The URL prefix for reveal.js (version 3.x).\n",
            "            This defaults to the reveal CDN, but can be any url pointing to a copy\n",
            "            of reveal.js.\n",
            "            For speaker notes to work, this must be a relative path to a local\n",
            "            copy of reveal.js: e.g., \"reveal.js\".\n",
            "            If a relative path is given, it must be a subdirectory of the\n",
            "            current directory (from which the server is run).\n",
            "            See the usage documentation\n",
            "            (https://nbconvert.readthedocs.io/en/latest/usage.html#reveal-js-html-slideshow)\n",
            "            for more details.\n",
            "    Default: ''\n",
            "    Equivalent to: [--SlidesExporter.reveal_url_prefix]\n",
            "--nbformat=<Enum>\n",
            "    The nbformat version to write.\n",
            "            Use this to downgrade notebooks.\n",
            "    Choices: any of [1, 2, 3, 4]\n",
            "    Default: 4\n",
            "    Equivalent to: [--NotebookExporter.nbformat_version]\n",
            "\n",
            "Examples\n",
            "--------\n",
            "\n",
            "    The simplest way to use nbconvert is\n",
            "\n",
            "            > jupyter nbconvert mynotebook.ipynb --to html\n",
            "\n",
            "            Options include ['asciidoc', 'custom', 'html', 'latex', 'markdown', 'notebook', 'pdf', 'python', 'qtpdf', 'qtpng', 'rst', 'script', 'slides', 'webpdf'].\n",
            "\n",
            "            > jupyter nbconvert --to latex mynotebook.ipynb\n",
            "\n",
            "            Both HTML and LaTeX support multiple output templates. LaTeX includes\n",
            "            'base', 'article' and 'report'.  HTML includes 'basic', 'lab' and\n",
            "            'classic'. You can specify the flavor of the format used.\n",
            "\n",
            "            > jupyter nbconvert --to html --template lab mynotebook.ipynb\n",
            "\n",
            "            You can also pipe the output to stdout, rather than a file\n",
            "\n",
            "            > jupyter nbconvert mynotebook.ipynb --stdout\n",
            "\n",
            "            PDF is generated via latex\n",
            "\n",
            "            > jupyter nbconvert mynotebook.ipynb --to pdf\n",
            "\n",
            "            You can get (and serve) a Reveal.js-powered slideshow\n",
            "\n",
            "            > jupyter nbconvert myslides.ipynb --to slides --post serve\n",
            "\n",
            "            Multiple notebooks can be given at the command line in a couple of\n",
            "            different ways:\n",
            "\n",
            "            > jupyter nbconvert notebook*.ipynb\n",
            "            > jupyter nbconvert notebook1.ipynb notebook2.ipynb\n",
            "\n",
            "            or you can specify the notebooks list in a config file, containing::\n",
            "\n",
            "                c.NbConvertApp.notebooks = [\"my_notebook.ipynb\"]\n",
            "\n",
            "            > jupyter nbconvert --config mycfg.py\n",
            "\n",
            "To see all available configurables, use `--help-all`.\n",
            "\n"
          ]
        }
      ]
    }
  ]
}